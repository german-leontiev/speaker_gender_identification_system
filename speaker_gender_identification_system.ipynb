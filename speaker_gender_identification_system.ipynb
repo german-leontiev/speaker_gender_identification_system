{
 "cells": [
  {
   "cell_type": "code",
   "execution_count": 1,
   "id": "96620ebb",
   "metadata": {},
   "outputs": [
    {
     "name": "stdout",
     "output_type": "stream",
     "text": [
      "Active code page: 65001\n"
     ]
    }
   ],
   "source": [
    "!chcp 65001\n",
    "\n",
    "import random\n",
    "import os\n",
    "import pathlib\n",
    "import splitfolders\n",
    "import shutil\n",
    "from pydub import AudioSegment\n",
    "from pydub.utils import mediainfo\n",
    "\n",
    "import matplotlib.pyplot as plt\n",
    "import numpy as np\n",
    "import seaborn as sns\n",
    "import tensorflow as tf\n",
    "from livelossplot.tf_keras import PlotLossesCallback\n",
    "\n",
    "from tensorflow.keras import layers\n",
    "from tensorflow.keras import models\n",
    "from IPython import display\n",
    "\n",
    "# Set the seed value for experiment reproducibility.\n",
    "seed = 42\n",
    "tf.random.set_seed(seed)\n",
    "np.random.seed(seed)\n",
    "\n",
    "\n",
    "import os\n",
    "os.environ[\"CUDA_VISIBLE_DEVICES\"] = '-1' "
   ]
  },
  {
   "cell_type": "markdown",
   "id": "c562a0cc",
   "metadata": {},
   "source": [
    "# Параметры"
   ]
  },
  {
   "cell_type": "code",
   "execution_count": 2,
   "id": "d7250500",
   "metadata": {},
   "outputs": [],
   "source": [
    "AUTOTUNE = tf.data.AUTOTUNE\n",
    "BATCH_SIZE = 64\n",
    "EARLY_STOP = tf.keras.callbacks.EarlyStopping(verbose=1, patience=2)\n",
    "CHECKPOINT = lambda MODEL_NAME: tf.keras.callbacks.ModelCheckpoint(cpt_path(MODEL_NAME), monitor='val_loss', verbose=1, save_best_only=True, mode='min')\n",
    "\n",
    "EPOCHS = 10"
   ]
  },
  {
   "cell_type": "markdown",
   "id": "25403588",
   "metadata": {},
   "source": [
    "# Работа с файлами"
   ]
  },
  {
   "cell_type": "code",
   "execution_count": 7,
   "id": "85306efc",
   "metadata": {},
   "outputs": [],
   "source": [
    "wav_data = pathlib.Path('wav_data')\n",
    "\n",
    "# pathlib.Path.mkdir(wav_data / 'male')\n",
    "# pathlib.Path.mkdir(wav_data / 'female')\n",
    "\n",
    "with open('female.txt', 'r') as file:\n",
    "    content =  file.read()\n",
    "    fem_list = content.split('\\n')\n",
    "with open('male.txt', 'r') as file:\n",
    "    content =  file.read()\n",
    "    male_list = content.split('\\n')\n",
    "\n",
    "for file in male_list:\n",
    "    try:\n",
    "        shutil.copy(wav_data / file, wav_data / 'male' / file)\n",
    "    except:\n",
    "        pass\n",
    "\n",
    "for file in fem_list:\n",
    "    try:\n",
    "        shutil.copy(wav_data / file, wav_data / 'female' / file)\n",
    "    except:\n",
    "        pass"
   ]
  },
  {
   "cell_type": "markdown",
   "id": "0c34da51",
   "metadata": {},
   "source": [
    "# Функции"
   ]
  },
  {
   "cell_type": "code",
   "execution_count": 8,
   "id": "80517ed4",
   "metadata": {},
   "outputs": [],
   "source": [
    "def count_dataset_samples(DATASET_PATH):\n",
    "    data_dir = pathlib.Path(DATASET_PATH)\n",
    "    classes = np.array(tf.io.gfile.listdir(str(data_dir)))\n",
    "    filenames = tf.io.gfile.glob(str(data_dir) + '/*/*')\n",
    "    filenames = tf.random.shuffle(filenames)\n",
    "    num_samples = len(filenames)\n",
    "    print('Number of total examples:', num_samples)\n",
    "    print('Number of examples of human class:',\n",
    "          len(tf.io.gfile.listdir(str(data_dir/classes[0]))))\n",
    "    print('Number of examples of spoof class:',\n",
    "          len(tf.io.gfile.listdir(str(data_dir/classes[1]))))\n",
    "    print('Example file tensor:', filenames[0])\n",
    "    return classes\n",
    "\n",
    "\n",
    "def split_dataset(DATASET_PATH, SPLIT_PATH, RATIO=(.8, .1, .1)):\n",
    "    data_dir = pathlib.Path(DATASET_PATH)\n",
    "    split_dir = pathlib.Path(SPLIT_PATH)\n",
    "    pathlib.Path.mkdir(split_dir, exist_ok=True)\n",
    "    splitfolders.ratio(data_dir, output=split_dir,\n",
    "                      seed=0, ratio=RATIO, group_prefix=None)\n",
    "\n",
    "    train_dir = split_dir / 'train'\n",
    "    val_dir = split_dir / 'val'\n",
    "    test_dir = split_dir / 'test'\n",
    "\n",
    "    train_files = tf.random.shuffle(tf.io.gfile.glob(str(train_dir) + '/*/*'))\n",
    "    val_files = tf.random.shuffle(tf.io.gfile.glob(str(val_dir) + '/*/*'))\n",
    "    test_files = tf.random.shuffle(tf.io.gfile.glob(str(test_dir) + '/*/*'))\n",
    "\n",
    "    print('Training set size', len(train_files))\n",
    "    print('Validation set size', len(val_files))\n",
    "    print('Test set size', len(test_files))\n",
    "    \n",
    "    return train_files, val_files, test_files\n",
    "\n",
    "# Функция для декодирования wav файла\n",
    "def decode_audio(audio_binary):\n",
    "    # Decode WAV-encoded audio files to `float32` tensors, normalized\n",
    "    # to the [-1.0, 1.0] range. Return `float32` audio and a sample rate.\n",
    "    audio, _ = tf.audio.decode_wav(contents=audio_binary)\n",
    "    # Since all the data is single channel (mono), drop the `channels`\n",
    "    # axis from the array.\n",
    "    return tf.squeeze(audio, axis=-1)\n",
    "\n",
    "# Функция для создания метки аудиофайла\n",
    "def get_label(file_path):\n",
    "    parts = tf.strings.split(\n",
    "      input=file_path,\n",
    "      sep=os.path.sep)\n",
    "    # Note: You'll use indexing here instead of tuple unpacking to enable this\n",
    "    # to work in a TensorFlow graph.\n",
    "    return parts[-2]\n",
    "\n",
    "# Объединение двух предыдущих\n",
    "def get_waveform_and_label(file_path):\n",
    "    label = get_label(file_path)\n",
    "    audio_binary = tf.io.read_file(file_path)\n",
    "    waveform = decode_audio(audio_binary)\n",
    "    return waveform, label\n",
    "\n",
    "# Получение спектограммы\n",
    "def get_spectrogram(waveform, windows_size=255, hop_len=128):\n",
    "    # Zero-padding for an audio waveform with less than 16,000 samples.\n",
    "    input_len = 16000\n",
    "    waveform = waveform[:input_len]\n",
    "    zero_padding = tf.zeros(\n",
    "      [16000] - tf.shape(waveform),\n",
    "      dtype=tf.float32)\n",
    "    # Cast the waveform tensors' dtype to float32.\n",
    "    waveform = tf.cast(waveform, dtype=tf.float32)\n",
    "    # Concatenate the waveform with `zero_padding`, which ensures all audio\n",
    "    # clips are of the same length.\n",
    "    equal_length = tf.concat([waveform, zero_padding], 0)\n",
    "    # Convert the waveform to a spectrogram via a STFT.\n",
    "    spectrogram = tf.signal.stft(\n",
    "      equal_length, frame_length=windows_size, frame_step=hop_len)\n",
    "    # Obtain the magnitude of the STFT.\n",
    "    spectrogram = tf.abs(spectrogram)\n",
    "    # Add a `channels` dimension, so that the spectrogram can be used\n",
    "    # as image-like input data with convolution layers (which expect\n",
    "    # shape (`batch_size`, `height`, `width`, `channels`).\n",
    "    spectrogram = spectrogram[..., tf.newaxis]\n",
    "    return spectrogram\n",
    "\n",
    "# Получение спектограммы и лейбла\n",
    "def get_spectrogram_and_label_id(audio, label, windows_size=255, hop_len=128):\n",
    "    spectrogram = get_spectrogram(audio, windows_size=windows_size, hop_len=hop_len)\n",
    "    label_id = tf.argmax(label == CLASSES)\n",
    "    return spectrogram, label_id\n",
    "\n",
    "# Препроцессинг\n",
    "def preprocess_dataset(files, windows_size=255, hop_len=128):\n",
    "    files_ds = tf.data.Dataset.from_tensor_slices(files)\n",
    "    output_ds = files_ds.map(\n",
    "      map_func=get_waveform_and_label,\n",
    "      num_parallel_calls=AUTOTUNE)\n",
    "    output_ds = output_ds.map(\n",
    "      map_func=get_spectrogram_and_label_id,\n",
    "      num_parallel_calls=AUTOTUNE)\n",
    "    return output_ds\n",
    "\n",
    "def preprocessing(train_files, val_files, test_files, AUTOTUNE=AUTOTUNE, BATCH_SIZE=BATCH_SIZE):\n",
    "    train_ds = preprocess_dataset(train_files)\n",
    "    val_ds = preprocess_dataset(val_files)\n",
    "    test_ds = preprocess_dataset(test_files)\n",
    "    \n",
    "    train_ds = train_ds.batch(BATCH_SIZE)\n",
    "    val_ds = val_ds.batch(BATCH_SIZE)\n",
    "\n",
    "    train_ds = train_ds.cache().prefetch(AUTOTUNE)\n",
    "    val_ds = val_ds.cache().prefetch(AUTOTUNE)\n",
    "    return train_ds, val_ds, test_ds\n",
    "\n",
    "def get_norm_layer(DS):\n",
    "    norm_layer = layers.Normalization()\n",
    "    norm_layer.adapt(data=DS.map(map_func=lambda spec, label: spec))\n",
    "    return norm_layer\n",
    "\n",
    "from sklearn.metrics import f1_score, roc_auc_score, recall_score, precision_score\n",
    "\n",
    "def test_metrics(MODEL, TEST_DS):\n",
    "    test_audio, test_labels = [], []\n",
    "\n",
    "    for audio, label in TEST_DS:\n",
    "        test_audio.append(audio.numpy())\n",
    "        test_labels.append(label.numpy())\n",
    "\n",
    "    test_audio = np.array(test_audio)\n",
    "    test_labels = np.array(test_labels)\n",
    "\n",
    "    y_pred = np.argmax(MODEL.predict(test_audio), axis=1)\n",
    "    y_true = test_labels\n",
    "\n",
    "    test_acc = sum(y_pred == y_true) / len(y_true)\n",
    "    test_f1 = f1_score(y_true, y_pred)\n",
    "    test_roc_auc = roc_auc_score(y_true, y_pred)\n",
    "    test_recall = recall_score(y_true, y_pred)\n",
    "    test_precision = precision_score(y_true, y_pred)\n",
    "    return (test_acc, test_f1, test_roc_auc, test_recall, test_precision)\n",
    "\n",
    "class TrippleChannels(tf.keras.Model):\n",
    "    def __init__(self):\n",
    "        super(TrippleChannels, self).__init__()\n",
    "    def call(self, inp):\n",
    "        out = tf.repeat(inp, repeats=[3], axis=-1)\n",
    "        return out\n",
    "\n",
    "def cpt_path(MODEL_NAME):\n",
    "    path = pathlib.Path(f\"models/{MODEL_NAME}/\")\n",
    "    path.mkdir(exist_ok=True, parents=True) # создаем папку на диске\n",
    "    cpt_filename = \"{epoch:02d}_checkpoint_{val_loss:.2f}.hdf5\"  \n",
    "    cpt_path = str(path / cpt_filename)\n",
    "    return cpt_path\n",
    "\n",
    "def file_info(file_path):\n",
    "    sound = AudioSegment.from_wav(file_path)\n",
    "    freq = sound.frame_rate\n",
    "    chan = sound.channels\n",
    "    bitr = mediainfo(file_path)['bit_rate']\n",
    "    print(f'File info:\\nBitrate: {bitr[:3]} kbps\\nChannels: {chan}\\nFrequency: {freq} Hz')"
   ]
  },
  {
   "cell_type": "markdown",
   "id": "1b1da553",
   "metadata": {},
   "source": [
    "## Подготовка данных"
   ]
  },
  {
   "cell_type": "code",
   "execution_count": 9,
   "id": "960949ac",
   "metadata": {},
   "outputs": [],
   "source": [
    "DATASET_PATH = 'wav_data'"
   ]
  },
  {
   "cell_type": "code",
   "execution_count": 11,
   "id": "08517036",
   "metadata": {},
   "outputs": [
    {
     "name": "stdout",
     "output_type": "stream",
     "text": [
      "Number of total examples: 204\n",
      "Number of examples of human class: 102\n",
      "Number of examples of spoof class: 102\n",
      "Example file tensor: tf.Tensor(b'wav_data\\\\male\\\\A30001M2.wav', shape=(), dtype=string)\n"
     ]
    }
   ],
   "source": [
    "CLASSES = count_dataset_samples(DATASET_PATH)\n",
    "NUM_LABELS = len(CLASSES)"
   ]
  },
  {
   "cell_type": "markdown",
   "id": "dc1d2f2c",
   "metadata": {},
   "source": [
    "Рездалим датасет на тренировочную, валидационную и тестовую части:"
   ]
  },
  {
   "cell_type": "code",
   "execution_count": 12,
   "id": "6bba6506",
   "metadata": {},
   "outputs": [
    {
     "name": "stderr",
     "output_type": "stream",
     "text": [
      "Copying files: 204 files [00:01, 186.48 files/s]"
     ]
    },
    {
     "name": "stdout",
     "output_type": "stream",
     "text": [
      "Training set size 162\n",
      "Validation set size 20\n",
      "Test set size 22\n"
     ]
    },
    {
     "name": "stderr",
     "output_type": "stream",
     "text": [
      "\n"
     ]
    }
   ],
   "source": [
    "SPLIT_PATH = 'split'\n",
    "shutil.rmtree(SPLIT_PATH, ignore_errors=True)\n",
    "train_files, val_files, test_files = split_dataset(DATASET_PATH, SPLIT_PATH)"
   ]
  },
  {
   "cell_type": "markdown",
   "id": "756d0e7b",
   "metadata": {},
   "source": [
    "## Обычная CNN"
   ]
  },
  {
   "cell_type": "code",
   "execution_count": 13,
   "id": "1fbcecad",
   "metadata": {},
   "outputs": [],
   "source": [
    "MODEL_NAME = \"Simple_CNN\""
   ]
  },
  {
   "cell_type": "code",
   "execution_count": 14,
   "id": "cd06fa9a",
   "metadata": {},
   "outputs": [],
   "source": [
    "train_ds, val_ds, test_ds = preprocessing(train_files, val_files, test_files)\n",
    "norm_layer = get_norm_layer(train_ds)"
   ]
  },
  {
   "cell_type": "code",
   "execution_count": 26,
   "id": "eeb54d96",
   "metadata": {},
   "outputs": [],
   "source": [
    "for spectrogram, _ in train_ds.take(1):\n",
    "    INPUT_SHAPE = spectrogram.shape[1:]\n",
    "\n",
    "model = models.Sequential([\n",
    "    layers.Input(shape=(124, 129, 1)),\n",
    "    # Downsample the input.\n",
    "    layers.Resizing(32, 32),\n",
    "    # Normalize.\n",
    "    norm_layer,\n",
    "    layers.Conv2D(32, 3, activation='relu'),\n",
    "    layers.Conv2D(64, 3, activation='relu'),\n",
    "    layers.MaxPooling2D(),\n",
    "    layers.Dropout(0.25),\n",
    "    layers.Flatten(),\n",
    "    layers.Dense(128, activation='relu'),\n",
    "    layers.Dropout(0.5),\n",
    "    layers.Dense(NUM_LABELS),\n",
    "])"
   ]
  },
  {
   "cell_type": "code",
   "execution_count": 27,
   "id": "6a9e3c03",
   "metadata": {
    "scrolled": false
   },
   "outputs": [],
   "source": [
    "model.compile(\n",
    "    optimizer=tf.keras.optimizers.Adam(),\n",
    "    loss=tf.keras.losses.SparseCategoricalCrossentropy(from_logits=True),\n",
    "    metrics=['accuracy'],\n",
    ")"
   ]
  },
  {
   "cell_type": "code",
   "execution_count": 28,
   "id": "78b2fd0e",
   "metadata": {},
   "outputs": [
    {
     "data": {
      "image/png": "[encoded data removed]",
      "text/plain": [
       "<Figure size 864x576 with 2 Axes>"
      ]
     },
     "metadata": {
      "needs_background": "light"
     },
     "output_type": "display_data"
    },
    {
     "name": "stdout",
     "output_type": "stream",
     "text": [
      "accuracy\n",
      "\ttraining         \t (min:    0.599, max:    0.981, cur:    0.981)\n",
      "\tvalidation       \t (min:    0.750, max:    0.950, cur:    0.950)\n",
      "Loss\n",
      "\ttraining         \t (min:    0.099, max:    0.664, cur:    0.099)\n",
      "\tvalidation       \t (min:    0.128, max:    0.509, cur:    0.128)\n"
     ]
    }
   ],
   "source": [
    "history = model.fit(\n",
    "    train_ds,\n",
    "    validation_data=val_ds,\n",
    "    epochs=EPOCHS,\n",
    "    callbacks=PlotLossesCallback(),\n",
    "    verbose=0\n",
    ")"
   ]
  },
  {
   "cell_type": "markdown",
   "id": "d0998649",
   "metadata": {},
   "source": [
    "## Основные метрики классификации"
   ]
  },
  {
   "cell_type": "code",
   "execution_count": 29,
   "id": "3ec6165f",
   "metadata": {
    "scrolled": true
   },
   "outputs": [
    {
     "name": "stdout",
     "output_type": "stream",
     "text": [
      "Test set accuracy: 95%\n",
      "Test set F1 score: 96%\n",
      "Test set ROCAUC: 95%\n",
      "Test set Recall: 100%\n",
      "Test set Precision: 92%\n"
     ]
    }
   ],
   "source": [
    "test_acc, test_f1, test_roc_auc, test_recall, test_precision = test_metrics(model, test_ds)\n",
    "print(f'Test set accuracy: {test_acc:.0%}')\n",
    "print(f'Test set F1 score: {test_f1:.0%}')\n",
    "print(f'Test set ROCAUC: {test_roc_auc:.0%}')\n",
    "print(f'Test set Recall: {test_recall:.0%}')\n",
    "print(f'Test set Precision: {test_precision:.0%}')"
   ]
  },
  {
   "cell_type": "markdown",
   "id": "b097bfdd",
   "metadata": {},
   "source": [
    "## Сохранение и инференс модели"
   ]
  },
  {
   "cell_type": "code",
   "execution_count": 30,
   "id": "f878a939",
   "metadata": {},
   "outputs": [],
   "source": [
    "model.save('test_model.h5')"
   ]
  },
  {
   "cell_type": "code",
   "execution_count": 31,
   "id": "ec8a9e52",
   "metadata": {},
   "outputs": [],
   "source": [
    "SAMPLE_PATH = 'sample.wav'"
   ]
  },
  {
   "cell_type": "code",
   "execution_count": 32,
   "id": "06d8c908",
   "metadata": {},
   "outputs": [],
   "source": [
    "new_model = tf.keras.models.load_model('test_model.h5')"
   ]
  },
  {
   "cell_type": "code",
   "execution_count": 33,
   "id": "fd29ddc8",
   "metadata": {},
   "outputs": [],
   "source": [
    "def inference(SAMPLE_PATH):\n",
    "    with open(SAMPLE_PATH, 'br') as wav:\n",
    "        wav_binary = wav.read()\n",
    "\n",
    "    wav_decoded = decode_audio(wav_binary)\n",
    "\n",
    "    spectrogram = get_spectrogram(wav_decoded, windows_size=255, hop_len=128)\n",
    "\n",
    "    y_pred = np.argmax(new_model.predict(spectrogram[None, ...]), axis=1)\n",
    "    if y_pred[0] == 1:\n",
    "        predicted_gender = 'male'\n",
    "    else:\n",
    "        predicted_gender = 'female'\n",
    "    return predicted_gender"
   ]
  },
  {
   "cell_type": "code",
   "execution_count": 34,
   "id": "ebd0ac76",
   "metadata": {},
   "outputs": [
    {
     "data": {
      "text/plain": [
       "'male'"
      ]
     },
     "execution_count": 34,
     "metadata": {},
     "output_type": "execute_result"
    }
   ],
   "source": [
    "inference(SAMPLE_PATH)"
   ]
  }
 ],
 "metadata": {
  "kernelspec": {
   "display_name": "Python 3 (ipykernel)",
   "language": "python",
   "name": "python3"
  },
  "language_info": {
   "codemirror_mode": {
    "name": "ipython",
    "version": 3
   },
   "file_extension": ".py",
   "mimetype": "text/x-python",
   "name": "python",
   "nbconvert_exporter": "python",
   "pygments_lexer": "ipython3",
   "version": "3.9.6"
  }
 },
 "nbformat": 4,
 "nbformat_minor": 5
}
